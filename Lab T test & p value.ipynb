{
 "cells": [
  {
   "cell_type": "markdown",
   "id": "bfa1647b",
   "metadata": {},
   "source": [
    "Null hypothesis (H0):  Old and new machines average speed of packing jars are not significantly different\n",
    "Alternative hypothesis (Ha): Old and new machines average speed of packing jars are significantly different"
   ]
  },
  {
   "cell_type": "code",
   "execution_count": 12,
   "id": "752383a9",
   "metadata": {},
   "outputs": [],
   "source": [
    "import statistics\n",
    "import pandas as pd\n",
    "import math\n",
    "from scipy.stats import ttest_ind"
   ]
  },
  {
   "cell_type": "code",
   "execution_count": 18,
   "id": "60873674",
   "metadata": {},
   "outputs": [
    {
     "data": {
      "text/html": [
       "<div>\n",
       "<style scoped>\n",
       "    .dataframe tbody tr th:only-of-type {\n",
       "        vertical-align: middle;\n",
       "    }\n",
       "\n",
       "    .dataframe tbody tr th {\n",
       "        vertical-align: top;\n",
       "    }\n",
       "\n",
       "    .dataframe thead th {\n",
       "        text-align: right;\n",
       "    }\n",
       "</style>\n",
       "<table border=\"1\" class=\"dataframe\">\n",
       "  <thead>\n",
       "    <tr style=\"text-align: right;\">\n",
       "      <th></th>\n",
       "      <th>new_machine</th>\n",
       "      <th>old_machine</th>\n",
       "    </tr>\n",
       "  </thead>\n",
       "  <tbody>\n",
       "    <tr>\n",
       "      <th>0</th>\n",
       "      <td>42.1</td>\n",
       "      <td>42.7</td>\n",
       "    </tr>\n",
       "    <tr>\n",
       "      <th>1</th>\n",
       "      <td>41.0</td>\n",
       "      <td>43.6</td>\n",
       "    </tr>\n",
       "    <tr>\n",
       "      <th>2</th>\n",
       "      <td>41.3</td>\n",
       "      <td>43.8</td>\n",
       "    </tr>\n",
       "    <tr>\n",
       "      <th>3</th>\n",
       "      <td>41.8</td>\n",
       "      <td>43.3</td>\n",
       "    </tr>\n",
       "    <tr>\n",
       "      <th>4</th>\n",
       "      <td>42.4</td>\n",
       "      <td>42.5</td>\n",
       "    </tr>\n",
       "    <tr>\n",
       "      <th>5</th>\n",
       "      <td>42.8</td>\n",
       "      <td>43.5</td>\n",
       "    </tr>\n",
       "    <tr>\n",
       "      <th>6</th>\n",
       "      <td>43.2</td>\n",
       "      <td>43.1</td>\n",
       "    </tr>\n",
       "    <tr>\n",
       "      <th>7</th>\n",
       "      <td>42.3</td>\n",
       "      <td>41.7</td>\n",
       "    </tr>\n",
       "    <tr>\n",
       "      <th>8</th>\n",
       "      <td>41.8</td>\n",
       "      <td>44.0</td>\n",
       "    </tr>\n",
       "    <tr>\n",
       "      <th>9</th>\n",
       "      <td>42.7</td>\n",
       "      <td>44.1</td>\n",
       "    </tr>\n",
       "  </tbody>\n",
       "</table>\n",
       "</div>"
      ],
      "text/plain": [
       "   new_machine  old_machine\n",
       "0         42.1         42.7\n",
       "1         41.0         43.6\n",
       "2         41.3         43.8\n",
       "3         41.8         43.3\n",
       "4         42.4         42.5\n",
       "5         42.8         43.5\n",
       "6         43.2         43.1\n",
       "7         42.3         41.7\n",
       "8         41.8         44.0\n",
       "9         42.7         44.1"
      ]
     },
     "execution_count": 18,
     "metadata": {},
     "output_type": "execute_result"
    }
   ],
   "source": [
    "data = pd.read_csv('files_for_lab/machine.txt', sep =\"\\t\", encoding = 'utf-16', header=0, names=['new_machine', 'old_machine']) \n",
    "data\n"
   ]
  },
  {
   "cell_type": "code",
   "execution_count": 20,
   "id": "ed44d4a5",
   "metadata": {},
   "outputs": [
    {
     "name": "stdout",
     "output_type": "stream",
     "text": [
      "old machine packing time_mean 43.230000000000004 & standard deviation: 0.7498888806572158\n"
     ]
    }
   ],
   "source": [
    "# calculate the test statistic for our sample\n",
    "# first we need to plugin our information (first define the numbers)\n",
    "old_sample_mean = statistics.mean(data[\"old_machine\"])\n",
    "old_sample_std = statistics.stdev(data[\"old_machine\"])\n",
    "print('old machine packing time_mean', old_sample_mean, '&', 'standard deviation:', old_sample_std)"
   ]
  },
  {
   "cell_type": "code",
   "execution_count": 21,
   "id": "a287d14a",
   "metadata": {},
   "outputs": [
    {
     "name": "stdout",
     "output_type": "stream",
     "text": [
      "new machine packing time_mean 42.14 & standard deviation: 0.6834552736727638\n"
     ]
    }
   ],
   "source": [
    "new_sample_mean = statistics.mean(data[\"new_machine\"])\n",
    "new_sample_std = statistics.stdev(data[\"new_machine\"])\n",
    "print('new machine packing time_mean', new_sample_mean, '&', 'standard deviation:', new_sample_std)"
   ]
  },
  {
   "cell_type": "code",
   "execution_count": 22,
   "id": "ff21130a",
   "metadata": {},
   "outputs": [
    {
     "data": {
      "text/plain": [
       "Ttest_indResult(statistic=3.3972307061176026, pvalue=0.0032111425007745158)"
      ]
     },
     "execution_count": 22,
     "metadata": {},
     "output_type": "execute_result"
    }
   ],
   "source": [
    "ttest_ind(data.old_machine, data.new_machine)"
   ]
  },
  {
   "cell_type": "markdown",
   "id": "4ff6b880",
   "metadata": {},
   "source": [
    "We can see that the p-value is less than the alpha value (5% or 0,05). In this case, the p-value is 0.003, which is less than 0.05, so we can reject the null hypothesis and conclude that there is a significant difference between the mean packing times of the new and old machines."
   ]
  },
  {
   "cell_type": "markdown",
   "id": "5a275ad7",
   "metadata": {},
   "source": [
    "I will try the exercise 2 and update later ( as it's optional) "
   ]
  }
 ],
 "metadata": {
  "kernelspec": {
   "display_name": "Python 3 (ipykernel)",
   "language": "python",
   "name": "python3"
  },
  "language_info": {
   "codemirror_mode": {
    "name": "ipython",
    "version": 3
   },
   "file_extension": ".py",
   "mimetype": "text/x-python",
   "name": "python",
   "nbconvert_exporter": "python",
   "pygments_lexer": "ipython3",
   "version": "3.9.12"
  }
 },
 "nbformat": 4,
 "nbformat_minor": 5
}
